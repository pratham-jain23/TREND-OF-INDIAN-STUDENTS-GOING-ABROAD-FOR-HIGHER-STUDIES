{
 "cells": [
  {
   "cell_type": "markdown",
   "metadata": {},
   "source": [
    "### Import the relevant libraries"
   ]
  },
  {
   "cell_type": "code",
   "execution_count": 1,
   "metadata": {},
   "outputs": [],
   "source": [
    "import numpy as np\n",
    "import pandas as pd\n",
    "import matplotlib.pyplot as plt\n",
    "import seaborn as sns\n",
    "sns.set()"
   ]
  },
  {
   "cell_type": "markdown",
   "metadata": {},
   "source": [
    "### Load the Data"
   ]
  },
  {
   "cell_type": "code",
   "execution_count": 2,
   "metadata": {},
   "outputs": [],
   "source": [
    "data= pd.read_csv(\"surveydata.csv\")"
   ]
  },
  {
   "cell_type": "code",
   "execution_count": 3,
   "metadata": {},
   "outputs": [
    {
     "data": {
      "text/html": [
       "<div>\n",
       "<style scoped>\n",
       "    .dataframe tbody tr th:only-of-type {\n",
       "        vertical-align: middle;\n",
       "    }\n",
       "\n",
       "    .dataframe tbody tr th {\n",
       "        vertical-align: top;\n",
       "    }\n",
       "\n",
       "    .dataframe thead th {\n",
       "        text-align: right;\n",
       "    }\n",
       "</style>\n",
       "<table border=\"1\" class=\"dataframe\">\n",
       "  <thead>\n",
       "    <tr style=\"text-align: right;\">\n",
       "      <th></th>\n",
       "      <th>Timestamp</th>\n",
       "      <th>Mention your Gender.</th>\n",
       "      <th>Are you planning to go for higher studies?</th>\n",
       "      <th>If yes, are/will you considering/consider applying to foreign universities for your Master's degree?</th>\n",
       "      <th>What is your current field of study?</th>\n",
       "      <th>If higher studies, then in which field?</th>\n",
       "      <th>What is/will be your preferred choice of country/continent for your respective field?</th>\n",
       "      <th>On a scale of 1 to 10, how much will you rate your preferred choice of country on the basis of total expense?</th>\n",
       "      <th>On a scale of 1-10, how much will you rate the on field reality of your preferred country? (Considering factors such as Racism, safety, loneliness, etc.)</th>\n",
       "      <th>Do you feel that you have access to appropriate guidance towards going abroad for higher studies?</th>\n",
       "      <th>Is your choice of country affected by the immigration policies of that respective country?</th>\n",
       "      <th>Does your family favors going abroad for higher studies?</th>\n",
       "      <th>Mention your family income.</th>\n",
       "      <th>What are the Financial options would you be looking at for applying abroad?</th>\n",
       "      <th>Will you have to take a loan in order to study abroad for your higher studies?</th>\n",
       "    </tr>\n",
       "  </thead>\n",
       "  <tbody>\n",
       "    <tr>\n",
       "      <td>0</td>\n",
       "      <td>2021/05/19 7:46:36 PM GMT+5:30</td>\n",
       "      <td>Male</td>\n",
       "      <td>No</td>\n",
       "      <td>No</td>\n",
       "      <td>Law/Journalism</td>\n",
       "      <td>Law/Journalism</td>\n",
       "      <td>Europe</td>\n",
       "      <td>10.0</td>\n",
       "      <td>7.0</td>\n",
       "      <td>No</td>\n",
       "      <td>No</td>\n",
       "      <td>No</td>\n",
       "      <td>0-3 LPA</td>\n",
       "      <td>I don't want to go till 2024</td>\n",
       "      <td>No</td>\n",
       "    </tr>\n",
       "    <tr>\n",
       "      <td>1</td>\n",
       "      <td>2021/05/19 7:49:50 PM GMT+5:30</td>\n",
       "      <td>Female</td>\n",
       "      <td>Yes</td>\n",
       "      <td>No</td>\n",
       "      <td>Mathematics/ Statistics</td>\n",
       "      <td>Mathematics/ Statistics</td>\n",
       "      <td>Asia</td>\n",
       "      <td>4.0</td>\n",
       "      <td>3.0</td>\n",
       "      <td>No</td>\n",
       "      <td>NaN</td>\n",
       "      <td>No</td>\n",
       "      <td>3-6 LPA</td>\n",
       "      <td>NaN</td>\n",
       "      <td>NaN</td>\n",
       "    </tr>\n",
       "    <tr>\n",
       "      <td>2</td>\n",
       "      <td>2021/05/19 7:49:53 PM GMT+5:30</td>\n",
       "      <td>Female</td>\n",
       "      <td>Yes</td>\n",
       "      <td>Yes</td>\n",
       "      <td>Mathematics/ Statistics</td>\n",
       "      <td>Mathematics/ Statistics</td>\n",
       "      <td>U.S.A.</td>\n",
       "      <td>9.0</td>\n",
       "      <td>7.0</td>\n",
       "      <td>Maybe</td>\n",
       "      <td>Yes</td>\n",
       "      <td>Yes</td>\n",
       "      <td>&gt;12 LPA</td>\n",
       "      <td>Scholarships</td>\n",
       "      <td>Yes</td>\n",
       "    </tr>\n",
       "    <tr>\n",
       "      <td>3</td>\n",
       "      <td>2021/05/19 7:50:12 PM GMT+5:30</td>\n",
       "      <td>Male</td>\n",
       "      <td>No</td>\n",
       "      <td>No</td>\n",
       "      <td>Mathematics/ Statistics</td>\n",
       "      <td>Mathematics/ Statistics</td>\n",
       "      <td>U.S.A.</td>\n",
       "      <td>10.0</td>\n",
       "      <td>4.0</td>\n",
       "      <td>Maybe</td>\n",
       "      <td>Yes</td>\n",
       "      <td>Yes</td>\n",
       "      <td>0-3 LPA</td>\n",
       "      <td>Scholarships;Part-time work</td>\n",
       "      <td>Yes</td>\n",
       "    </tr>\n",
       "    <tr>\n",
       "      <td>4</td>\n",
       "      <td>2021/05/19 7:50:52 PM GMT+5:30</td>\n",
       "      <td>Female</td>\n",
       "      <td>Yes</td>\n",
       "      <td>No</td>\n",
       "      <td>Mathematics/ Statistics</td>\n",
       "      <td>Mathematics/ Statistics</td>\n",
       "      <td>Asia</td>\n",
       "      <td>3.0</td>\n",
       "      <td>4.0</td>\n",
       "      <td>No</td>\n",
       "      <td>Yes</td>\n",
       "      <td>No</td>\n",
       "      <td>3-6 LPA</td>\n",
       "      <td>NaN</td>\n",
       "      <td>Yes</td>\n",
       "    </tr>\n",
       "  </tbody>\n",
       "</table>\n",
       "</div>"
      ],
      "text/plain": [
       "                        Timestamp Mention your Gender.  \\\n",
       "0  2021/05/19 7:46:36 PM GMT+5:30                 Male   \n",
       "1  2021/05/19 7:49:50 PM GMT+5:30               Female   \n",
       "2  2021/05/19 7:49:53 PM GMT+5:30               Female   \n",
       "3  2021/05/19 7:50:12 PM GMT+5:30                 Male   \n",
       "4  2021/05/19 7:50:52 PM GMT+5:30               Female   \n",
       "\n",
       "  Are you planning to go for higher studies?  \\\n",
       "0                                         No   \n",
       "1                                        Yes   \n",
       "2                                        Yes   \n",
       "3                                         No   \n",
       "4                                        Yes   \n",
       "\n",
       "  If yes, are/will you considering/consider applying to foreign universities for your Master's degree?  \\\n",
       "0                                                 No                                                     \n",
       "1                                                 No                                                     \n",
       "2                                                Yes                                                     \n",
       "3                                                 No                                                     \n",
       "4                                                 No                                                     \n",
       "\n",
       "  What is your current field of study?  \\\n",
       "0                       Law/Journalism   \n",
       "1              Mathematics/ Statistics   \n",
       "2              Mathematics/ Statistics   \n",
       "3              Mathematics/ Statistics   \n",
       "4              Mathematics/ Statistics   \n",
       "\n",
       "  If higher studies, then in which field?  \\\n",
       "0                          Law/Journalism   \n",
       "1                 Mathematics/ Statistics   \n",
       "2                 Mathematics/ Statistics   \n",
       "3                 Mathematics/ Statistics   \n",
       "4                 Mathematics/ Statistics   \n",
       "\n",
       "  What is/will be your preferred choice of country/continent for your respective field?  \\\n",
       "0                                             Europe                                      \n",
       "1                                               Asia                                      \n",
       "2                                             U.S.A.                                      \n",
       "3                                             U.S.A.                                      \n",
       "4                                               Asia                                      \n",
       "\n",
       "    On a scale of 1 to 10, how much will you rate your preferred choice of country on the basis of total expense?  \\\n",
       "0                                               10.0                                                                \n",
       "1                                                4.0                                                                \n",
       "2                                                9.0                                                                \n",
       "3                                               10.0                                                                \n",
       "4                                                3.0                                                                \n",
       "\n",
       "   On a scale of 1-10, how much will you rate the on field reality of your preferred country? (Considering factors such as Racism, safety, loneliness, etc.)  \\\n",
       "0                                                7.0                                                                                                           \n",
       "1                                                3.0                                                                                                           \n",
       "2                                                7.0                                                                                                           \n",
       "3                                                4.0                                                                                                           \n",
       "4                                                4.0                                                                                                           \n",
       "\n",
       "  Do you feel that you have access to appropriate guidance towards going abroad for higher studies?  \\\n",
       "0                                                 No                                                  \n",
       "1                                                 No                                                  \n",
       "2                                              Maybe                                                  \n",
       "3                                              Maybe                                                  \n",
       "4                                                 No                                                  \n",
       "\n",
       "  Is your choice of country affected by the immigration policies of that respective country?  \\\n",
       "0                                                 No                                           \n",
       "1                                                NaN                                           \n",
       "2                                                Yes                                           \n",
       "3                                                Yes                                           \n",
       "4                                                Yes                                           \n",
       "\n",
       "  Does your family favors going abroad for higher studies?  \\\n",
       "0                                                 No         \n",
       "1                                                 No         \n",
       "2                                                Yes         \n",
       "3                                                Yes         \n",
       "4                                                 No         \n",
       "\n",
       "  Mention your family income.  \\\n",
       "0                     0-3 LPA   \n",
       "1                     3-6 LPA   \n",
       "2                     >12 LPA   \n",
       "3                     0-3 LPA   \n",
       "4                     3-6 LPA   \n",
       "\n",
       "  What are the Financial options would you be looking at for applying abroad?  \\\n",
       "0                       I don't want to go till 2024                            \n",
       "1                                                NaN                            \n",
       "2                                       Scholarships                            \n",
       "3                        Scholarships;Part-time work                            \n",
       "4                                                NaN                            \n",
       "\n",
       "  Will you have to take a loan in order to study abroad for your higher studies?  \n",
       "0                                                 No                              \n",
       "1                                                NaN                              \n",
       "2                                                Yes                              \n",
       "3                                                Yes                              \n",
       "4                                                Yes                              "
      ]
     },
     "execution_count": 3,
     "metadata": {},
     "output_type": "execute_result"
    }
   ],
   "source": [
    "#create the copy of the data file\n",
    "survey= data.copy()\n",
    "survey.head()"
   ]
  },
  {
   "cell_type": "markdown",
   "metadata": {},
   "source": [
    "### Data Pre-processing"
   ]
  },
  {
   "cell_type": "code",
   "execution_count": 4,
   "metadata": {},
   "outputs": [],
   "source": [
    "#Drop the \"Timestamp\" column \n",
    "survey=survey.drop('Timestamp', axis=1)"
   ]
  },
  {
   "cell_type": "code",
   "execution_count": 5,
   "metadata": {},
   "outputs": [
    {
     "data": {
      "text/plain": [
       "array(['Mention your Gender.',\n",
       "       'Are you planning to go for higher studies?',\n",
       "       \"If yes, are/will you considering/consider applying to foreign universities for your Master's degree?\",\n",
       "       'What is your current field of study?',\n",
       "       'If higher studies, then in which field?',\n",
       "       'What is/will be your preferred choice of country/continent for your respective field?',\n",
       "       ' On a scale of 1 to 10, how much will you rate your preferred choice of country on the basis of total expense?',\n",
       "       'On a scale of 1-10, how much will you rate the on field reality of your preferred country? (Considering factors such as Racism, safety, loneliness, etc.)',\n",
       "       'Do you feel that you have access to appropriate guidance towards going abroad for higher studies?',\n",
       "       'Is your choice of country affected by the immigration policies of that respective country?',\n",
       "       'Does your family favors going abroad for higher studies?',\n",
       "       'Mention your family income.',\n",
       "       'What are the Financial options would you be looking at for applying abroad?',\n",
       "       'Will you have to take a loan in order to study abroad for your higher studies?'],\n",
       "      dtype=object)"
      ]
     },
     "execution_count": 5,
     "metadata": {},
     "output_type": "execute_result"
    }
   ],
   "source": [
    "#Display all the column names\n",
    "survey.columns.values"
   ]
  },
  {
   "cell_type": "code",
   "execution_count": 6,
   "metadata": {},
   "outputs": [],
   "source": [
    "#Give relevant names to columns\n",
    "survey.rename(columns = {'Mention your Gender.' : 'Gender',  'Are you planning to go for higher studies?' : \"Higher Studies\",  \"If yes, are/will you considering/consider applying to foreign universities for your Master's degree?\": \"Higher Studies Abroad\", 'What is your current field of study?': \"CurrentField\",'If higher studies, then in which field?':\"HigherStudiesField\", 'What is/will be your preferred choice of country/continent for your respective field?': \"Country\",' On a scale of 1 to 10, how much will you rate your preferred choice of country on the basis of total expense?':\"ExpenseRating\",'On a scale of 1-10, how much will you rate the on field reality of your preferred country? (Considering factors such as Racism, safety, loneliness, etc.)':\"FieldRating\", 'Do you feel that you have access to appropriate guidance towards going abroad for higher studies?':\"Guidance\",'Is your choice of country affected by the immigration policies of that respective country?':\"ImmigrationPolicies\",'Does your family favors going abroad for higher studies?':\"FamilyFavour\", 'Mention your family income.':\"FamilyIncome\", 'What are the Financial options would you be looking at for applying abroad?':\"FinancialOptions\",    'Will you have to take a loan in order to study abroad for your higher studies?':\"Loan\"}, inplace = True)"
   ]
  },
  {
   "cell_type": "code",
   "execution_count": 7,
   "metadata": {},
   "outputs": [
    {
     "data": {
      "text/plain": [
       "array(['Gender', 'Higher Studies', 'Higher Studies Abroad',\n",
       "       'CurrentField', 'HigherStudiesField', 'Country', 'ExpenseRating',\n",
       "       'FieldRating', 'Guidance', 'ImmigrationPolicies', 'FamilyFavour',\n",
       "       'FamilyIncome', 'FinancialOptions', 'Loan'], dtype=object)"
      ]
     },
     "execution_count": 7,
     "metadata": {},
     "output_type": "execute_result"
    }
   ],
   "source": [
    "#Display the new column names\n",
    "survey.columns.values"
   ]
  },
  {
   "cell_type": "code",
   "execution_count": 8,
   "metadata": {},
   "outputs": [
    {
     "data": {
      "text/plain": [
       "Gender                    0\n",
       "Higher Studies            0\n",
       "Higher Studies Abroad     7\n",
       "CurrentField              0\n",
       "HigherStudiesField        5\n",
       "Country                   6\n",
       "ExpenseRating             7\n",
       "FieldRating               8\n",
       "Guidance                  6\n",
       "ImmigrationPolicies      11\n",
       "FamilyFavour              6\n",
       "FamilyIncome              8\n",
       "FinancialOptions         11\n",
       "Loan                      9\n",
       "dtype: int64"
      ]
     },
     "execution_count": 8,
     "metadata": {},
     "output_type": "execute_result"
    }
   ],
   "source": [
    "#Calculate the number of misssing values in each column\n",
    "survey.isna().sum()"
   ]
  },
  {
   "cell_type": "code",
   "execution_count": 9,
   "metadata": {},
   "outputs": [],
   "source": [
    "# Remove the records that contain missing values in  \"FamilyIncome\" and \"Country\" columns\n",
    "survey=survey.dropna(subset=['FamilyIncome','Country'])"
   ]
  },
  {
   "cell_type": "code",
   "execution_count": 10,
   "metadata": {},
   "outputs": [
    {
     "data": {
      "text/plain": [
       "Gender                    object\n",
       "Higher Studies            object\n",
       "Higher Studies Abroad     object\n",
       "CurrentField              object\n",
       "HigherStudiesField        object\n",
       "Country                   object\n",
       "ExpenseRating            float64\n",
       "FieldRating              float64\n",
       "Guidance                  object\n",
       "ImmigrationPolicies       object\n",
       "FamilyFavour              object\n",
       "FamilyIncome              object\n",
       "FinancialOptions          object\n",
       "Loan                      object\n",
       "dtype: object"
      ]
     },
     "execution_count": 10,
     "metadata": {},
     "output_type": "execute_result"
    }
   ],
   "source": [
    "#Display the data types of each column in the datset.\n",
    "survey.dtypes"
   ]
  },
  {
   "cell_type": "code",
   "execution_count": 11,
   "metadata": {},
   "outputs": [
    {
     "data": {
      "text/plain": [
       "array(['<6 LPA', '>6 LPA'], dtype=object)"
      ]
     },
     "execution_count": 11,
     "metadata": {},
     "output_type": "execute_result"
    }
   ],
   "source": [
    "#Put all values of 'FamilyIncome' in two intervals i.e. <6 LPA and >6 LPA\n",
    "survey['FamilyIncome']=np.where(np.isin(survey['FamilyIncome'], ('0-3 LPA','3-6 LPA')),\"<6 LPA\",\">6 LPA\")\n",
    "survey['FamilyIncome'].unique() #Display the unique values in \"FamilyIncome\" column"
   ]
  },
  {
   "cell_type": "code",
   "execution_count": 12,
   "metadata": {},
   "outputs": [],
   "source": [
    "survey[\"Higher Studies Abroad\"]=survey[\"Higher Studies Abroad\"].fillna(\"No\") #Replace missing values with 'No' in the given column.\n",
    "survey[\"ExpenseRating\"]=survey[\"ExpenseRating\"].fillna(np.mean(survey['ExpenseRating'])) #Replace missing values with mean value in the given column.\n",
    "survey[\"FieldRating\"]=survey[\"FieldRating\"].fillna(np.mean(survey['FieldRating'])) #Replace missing values with mean value in the given column\n",
    "survey[\"FamilyFavour\"]=survey[\"FamilyFavour\"].fillna(\"No\") #Replace missing values with 'No' in the given column.\n",
    "survey[\"Loan\"]=survey[\"Loan\"].fillna(\"No\") #Replace missing values with 'No' in the given column."
   ]
  },
  {
   "cell_type": "code",
   "execution_count": 13,
   "metadata": {},
   "outputs": [],
   "source": [
    "# Here it has been assumed that the one who has not mentioned the higher studies field would pursue the highr studies in the\n",
    "#field he/she is currently pursuing.\n",
    "#Therefore, replace all the missing values in the \"HigherStudiesField\" column with the corresponding value in \"CurrentField\" column.\n",
    "survey[\"HigherStudiesField\"]= np.where(survey[\"HigherStudiesField\"].isnull(),survey[\"CurrentField\"],survey[\"HigherStudiesField\"])"
   ]
  },
  {
   "cell_type": "code",
   "execution_count": 14,
   "metadata": {},
   "outputs": [
    {
     "data": {
      "text/plain": [
       "Gender                   0\n",
       "Higher Studies           0\n",
       "Higher Studies Abroad    0\n",
       "CurrentField             0\n",
       "HigherStudiesField       0\n",
       "Country                  0\n",
       "ExpenseRating            0\n",
       "FieldRating              0\n",
       "Guidance                 1\n",
       "ImmigrationPolicies      3\n",
       "FamilyFavour             0\n",
       "FamilyIncome             0\n",
       "FinancialOptions         3\n",
       "Loan                     0\n",
       "dtype: int64"
      ]
     },
     "execution_count": 14,
     "metadata": {},
     "output_type": "execute_result"
    }
   ],
   "source": [
    "#Calculate the number of misssing values in each column\n",
    "survey.isna().sum()"
   ]
  },
  {
   "cell_type": "code",
   "execution_count": 15,
   "metadata": {},
   "outputs": [],
   "source": [
    "#Re-indexing the datsaset\n",
    "survey=survey.reset_index(drop=True)"
   ]
  },
  {
   "cell_type": "code",
   "execution_count": 16,
   "metadata": {},
   "outputs": [
    {
     "data": {
      "text/html": [
       "<div>\n",
       "<style scoped>\n",
       "    .dataframe tbody tr th:only-of-type {\n",
       "        vertical-align: middle;\n",
       "    }\n",
       "\n",
       "    .dataframe tbody tr th {\n",
       "        vertical-align: top;\n",
       "    }\n",
       "\n",
       "    .dataframe thead th {\n",
       "        text-align: right;\n",
       "    }\n",
       "</style>\n",
       "<table border=\"1\" class=\"dataframe\">\n",
       "  <thead>\n",
       "    <tr style=\"text-align: right;\">\n",
       "      <th></th>\n",
       "      <th>Gender</th>\n",
       "      <th>Higher Studies</th>\n",
       "      <th>Higher Studies Abroad</th>\n",
       "      <th>CurrentField</th>\n",
       "      <th>HigherStudiesField</th>\n",
       "      <th>Country</th>\n",
       "      <th>ExpenseRating</th>\n",
       "      <th>FieldRating</th>\n",
       "      <th>Guidance</th>\n",
       "      <th>ImmigrationPolicies</th>\n",
       "      <th>FamilyFavour</th>\n",
       "      <th>FamilyIncome</th>\n",
       "      <th>FinancialOptions</th>\n",
       "      <th>Loan</th>\n",
       "    </tr>\n",
       "  </thead>\n",
       "  <tbody>\n",
       "    <tr>\n",
       "      <td>0</td>\n",
       "      <td>Male</td>\n",
       "      <td>No</td>\n",
       "      <td>No</td>\n",
       "      <td>Law/Journalism</td>\n",
       "      <td>Law/Journalism</td>\n",
       "      <td>Europe</td>\n",
       "      <td>10.0</td>\n",
       "      <td>7.0</td>\n",
       "      <td>No</td>\n",
       "      <td>No</td>\n",
       "      <td>No</td>\n",
       "      <td>&lt;6 LPA</td>\n",
       "      <td>I don't want to go till 2024</td>\n",
       "      <td>No</td>\n",
       "    </tr>\n",
       "    <tr>\n",
       "      <td>1</td>\n",
       "      <td>Female</td>\n",
       "      <td>Yes</td>\n",
       "      <td>No</td>\n",
       "      <td>Mathematics/ Statistics</td>\n",
       "      <td>Mathematics/ Statistics</td>\n",
       "      <td>Asia</td>\n",
       "      <td>4.0</td>\n",
       "      <td>3.0</td>\n",
       "      <td>No</td>\n",
       "      <td>NaN</td>\n",
       "      <td>No</td>\n",
       "      <td>&lt;6 LPA</td>\n",
       "      <td>NaN</td>\n",
       "      <td>No</td>\n",
       "    </tr>\n",
       "    <tr>\n",
       "      <td>2</td>\n",
       "      <td>Female</td>\n",
       "      <td>Yes</td>\n",
       "      <td>Yes</td>\n",
       "      <td>Mathematics/ Statistics</td>\n",
       "      <td>Mathematics/ Statistics</td>\n",
       "      <td>U.S.A.</td>\n",
       "      <td>9.0</td>\n",
       "      <td>7.0</td>\n",
       "      <td>Maybe</td>\n",
       "      <td>Yes</td>\n",
       "      <td>Yes</td>\n",
       "      <td>&gt;6 LPA</td>\n",
       "      <td>Scholarships</td>\n",
       "      <td>Yes</td>\n",
       "    </tr>\n",
       "    <tr>\n",
       "      <td>3</td>\n",
       "      <td>Male</td>\n",
       "      <td>No</td>\n",
       "      <td>No</td>\n",
       "      <td>Mathematics/ Statistics</td>\n",
       "      <td>Mathematics/ Statistics</td>\n",
       "      <td>U.S.A.</td>\n",
       "      <td>10.0</td>\n",
       "      <td>4.0</td>\n",
       "      <td>Maybe</td>\n",
       "      <td>Yes</td>\n",
       "      <td>Yes</td>\n",
       "      <td>&lt;6 LPA</td>\n",
       "      <td>Scholarships;Part-time work</td>\n",
       "      <td>Yes</td>\n",
       "    </tr>\n",
       "    <tr>\n",
       "      <td>4</td>\n",
       "      <td>Female</td>\n",
       "      <td>Yes</td>\n",
       "      <td>No</td>\n",
       "      <td>Mathematics/ Statistics</td>\n",
       "      <td>Mathematics/ Statistics</td>\n",
       "      <td>Asia</td>\n",
       "      <td>3.0</td>\n",
       "      <td>4.0</td>\n",
       "      <td>No</td>\n",
       "      <td>Yes</td>\n",
       "      <td>No</td>\n",
       "      <td>&lt;6 LPA</td>\n",
       "      <td>NaN</td>\n",
       "      <td>Yes</td>\n",
       "    </tr>\n",
       "    <tr>\n",
       "      <td>...</td>\n",
       "      <td>...</td>\n",
       "      <td>...</td>\n",
       "      <td>...</td>\n",
       "      <td>...</td>\n",
       "      <td>...</td>\n",
       "      <td>...</td>\n",
       "      <td>...</td>\n",
       "      <td>...</td>\n",
       "      <td>...</td>\n",
       "      <td>...</td>\n",
       "      <td>...</td>\n",
       "      <td>...</td>\n",
       "      <td>...</td>\n",
       "      <td>...</td>\n",
       "    </tr>\n",
       "    <tr>\n",
       "      <td>89</td>\n",
       "      <td>Male</td>\n",
       "      <td>Yes</td>\n",
       "      <td>Yes</td>\n",
       "      <td>Medical</td>\n",
       "      <td>Medical</td>\n",
       "      <td>Australia</td>\n",
       "      <td>9.0</td>\n",
       "      <td>9.0</td>\n",
       "      <td>Yes</td>\n",
       "      <td>Yes</td>\n",
       "      <td>Yes</td>\n",
       "      <td>&lt;6 LPA</td>\n",
       "      <td>Scholarships</td>\n",
       "      <td>Yes</td>\n",
       "    </tr>\n",
       "    <tr>\n",
       "      <td>90</td>\n",
       "      <td>Male</td>\n",
       "      <td>Yes</td>\n",
       "      <td>Yes</td>\n",
       "      <td>Engineering/ Architectural, etc.</td>\n",
       "      <td>Engineering/ Architectural, etc.</td>\n",
       "      <td>U.S.A.</td>\n",
       "      <td>4.0</td>\n",
       "      <td>2.0</td>\n",
       "      <td>No</td>\n",
       "      <td>No</td>\n",
       "      <td>Yes</td>\n",
       "      <td>&lt;6 LPA</td>\n",
       "      <td>Scholarships;Part-time work</td>\n",
       "      <td>No</td>\n",
       "    </tr>\n",
       "    <tr>\n",
       "      <td>91</td>\n",
       "      <td>Male</td>\n",
       "      <td>Yes</td>\n",
       "      <td>Yes</td>\n",
       "      <td>Engineering/ Architectural, etc.</td>\n",
       "      <td>Engineering/ Architectural, etc.</td>\n",
       "      <td>Australia</td>\n",
       "      <td>9.0</td>\n",
       "      <td>6.0</td>\n",
       "      <td>Yes</td>\n",
       "      <td>Yes</td>\n",
       "      <td>No</td>\n",
       "      <td>&gt;6 LPA</td>\n",
       "      <td>Loan/Grants;Scholarships</td>\n",
       "      <td>Yes</td>\n",
       "    </tr>\n",
       "    <tr>\n",
       "      <td>92</td>\n",
       "      <td>Female</td>\n",
       "      <td>Yes</td>\n",
       "      <td>Yes</td>\n",
       "      <td>Mathematics/ Statistics</td>\n",
       "      <td>Computer Science/ICT</td>\n",
       "      <td>U.S.A.</td>\n",
       "      <td>10.0</td>\n",
       "      <td>9.0</td>\n",
       "      <td>No</td>\n",
       "      <td>Yes</td>\n",
       "      <td>Yes</td>\n",
       "      <td>&gt;6 LPA</td>\n",
       "      <td>Scholarships;Family bank</td>\n",
       "      <td>No</td>\n",
       "    </tr>\n",
       "    <tr>\n",
       "      <td>93</td>\n",
       "      <td>Male</td>\n",
       "      <td>Yes</td>\n",
       "      <td>Yes</td>\n",
       "      <td>Computer Science/ICT</td>\n",
       "      <td>Computer Science/ICT</td>\n",
       "      <td>U.S.A.</td>\n",
       "      <td>7.0</td>\n",
       "      <td>8.0</td>\n",
       "      <td>Maybe</td>\n",
       "      <td>No</td>\n",
       "      <td>Yes</td>\n",
       "      <td>&gt;6 LPA</td>\n",
       "      <td>Scholarships;Family bank</td>\n",
       "      <td>No</td>\n",
       "    </tr>\n",
       "  </tbody>\n",
       "</table>\n",
       "<p>94 rows × 14 columns</p>\n",
       "</div>"
      ],
      "text/plain": [
       "    Gender Higher Studies Higher Studies Abroad  \\\n",
       "0     Male             No                    No   \n",
       "1   Female            Yes                    No   \n",
       "2   Female            Yes                   Yes   \n",
       "3     Male             No                    No   \n",
       "4   Female            Yes                    No   \n",
       "..     ...            ...                   ...   \n",
       "89    Male            Yes                   Yes   \n",
       "90    Male            Yes                   Yes   \n",
       "91    Male            Yes                   Yes   \n",
       "92  Female            Yes                   Yes   \n",
       "93    Male            Yes                   Yes   \n",
       "\n",
       "                        CurrentField                HigherStudiesField  \\\n",
       "0                     Law/Journalism                    Law/Journalism   \n",
       "1            Mathematics/ Statistics           Mathematics/ Statistics   \n",
       "2            Mathematics/ Statistics           Mathematics/ Statistics   \n",
       "3            Mathematics/ Statistics           Mathematics/ Statistics   \n",
       "4            Mathematics/ Statistics           Mathematics/ Statistics   \n",
       "..                               ...                               ...   \n",
       "89                           Medical                           Medical   \n",
       "90  Engineering/ Architectural, etc.  Engineering/ Architectural, etc.   \n",
       "91  Engineering/ Architectural, etc.  Engineering/ Architectural, etc.   \n",
       "92           Mathematics/ Statistics              Computer Science/ICT   \n",
       "93              Computer Science/ICT              Computer Science/ICT   \n",
       "\n",
       "      Country  ExpenseRating  FieldRating Guidance ImmigrationPolicies  \\\n",
       "0      Europe           10.0          7.0       No                  No   \n",
       "1        Asia            4.0          3.0       No                 NaN   \n",
       "2      U.S.A.            9.0          7.0    Maybe                 Yes   \n",
       "3      U.S.A.           10.0          4.0    Maybe                 Yes   \n",
       "4        Asia            3.0          4.0       No                 Yes   \n",
       "..        ...            ...          ...      ...                 ...   \n",
       "89  Australia            9.0          9.0      Yes                 Yes   \n",
       "90     U.S.A.            4.0          2.0       No                  No   \n",
       "91  Australia            9.0          6.0      Yes                 Yes   \n",
       "92     U.S.A.           10.0          9.0       No                 Yes   \n",
       "93     U.S.A.            7.0          8.0    Maybe                  No   \n",
       "\n",
       "   FamilyFavour FamilyIncome              FinancialOptions Loan  \n",
       "0            No       <6 LPA  I don't want to go till 2024   No  \n",
       "1            No       <6 LPA                           NaN   No  \n",
       "2           Yes       >6 LPA                  Scholarships  Yes  \n",
       "3           Yes       <6 LPA   Scholarships;Part-time work  Yes  \n",
       "4            No       <6 LPA                           NaN  Yes  \n",
       "..          ...          ...                           ...  ...  \n",
       "89          Yes       <6 LPA                  Scholarships  Yes  \n",
       "90          Yes       <6 LPA   Scholarships;Part-time work   No  \n",
       "91           No       >6 LPA      Loan/Grants;Scholarships  Yes  \n",
       "92          Yes       >6 LPA      Scholarships;Family bank   No  \n",
       "93          Yes       >6 LPA      Scholarships;Family bank   No  \n",
       "\n",
       "[94 rows x 14 columns]"
      ]
     },
     "execution_count": 16,
     "metadata": {},
     "output_type": "execute_result"
    }
   ],
   "source": [
    "survey"
   ]
  },
  {
   "cell_type": "markdown",
   "metadata": {},
   "source": [
    "### Exploratory Data Analysis"
   ]
  },
  {
   "cell_type": "code",
   "execution_count": 17,
   "metadata": {},
   "outputs": [
    {
     "name": "stderr",
     "output_type": "stream",
     "text": [
      "C:\\Users\\Dell\\Anaconda3\\lib\\site-packages\\numpy\\core\\fromnumeric.py:58: FutureWarning: Series.nonzero() is deprecated and will be removed in a future version.Use Series.to_numpy().nonzero() instead\n",
      "  return bound(*args, **kwds)\n"
     ]
    },
    {
     "data": {
      "image/png": "[encoded data removed]",
      "text/plain": [
       "<Figure size 432x288 with 1 Axes>"
      ]
     },
     "metadata": {},
     "output_type": "display_data"
    }
   ],
   "source": [
    "#Pie chart showing the Gender distribution of the respondents\n",
    "plt.pie(((np.argwhere(survey['Gender']=='Male').shape[0]),(np.argwhere(survey['Gender']=='Female').shape[0])), labels=['Male','Female'],autopct=\"%.2f%%\", colors=['r','b'])\n",
    "plt.show()"
   ]
  },
  {
   "cell_type": "markdown",
   "metadata": {},
   "source": [
    "Our Survey population consists of 58.51% Females and 41.49% Males."
   ]
  },
  {
   "cell_type": "markdown",
   "metadata": {},
   "source": [
    "##### Gender Impact"
   ]
  },
  {
   "cell_type": "code",
   "execution_count": 18,
   "metadata": {},
   "outputs": [
    {
     "data": {
      "text/plain": [
       "[44.680851063829785, 13.829787234042554]"
      ]
     },
     "execution_count": 18,
     "metadata": {},
     "output_type": "execute_result"
    }
   ],
   "source": [
    "#Create an array showing the percentage of male going and not going for higher studies. \n",
    "Male=[(np.argwhere((survey['Gender']=='Male') & (survey['Higher Studies']=='Yes')).shape[0])*100/94,(np.argwhere((survey['Gender']=='Male') & (survey['Higher Studies']=='No')).shape[0])*100/94]\n",
    "Male"
   ]
  },
  {
   "cell_type": "code",
   "execution_count": 19,
   "metadata": {},
   "outputs": [
    {
     "data": {
      "text/plain": [
       "[38.297872340425535, 3.1914893617021276]"
      ]
     },
     "execution_count": 19,
     "metadata": {},
     "output_type": "execute_result"
    }
   ],
   "source": [
    "#Create an array showing the percentage of male going nad not going for higher studies. \n",
    "Female=[(np.argwhere((survey['Gender']=='Female') & (survey['Higher Studies']=='Yes')).shape[0])*100/94,(np.argwhere((survey['Gender']=='Female') & (survey['Higher Studies']=='No')).shape[0])*100/94]\n",
    "Female"
   ]
  },
  {
   "cell_type": "code",
   "execution_count": 20,
   "metadata": {},
   "outputs": [
    {
     "data": {
      "image/png": "[encoded data removed]",
      "text/plain": [
       "<Figure size 432x288 with 1 Axes>"
      ]
     },
     "metadata": {
      "needs_background": "light"
     },
     "output_type": "display_data"
    }
   ],
   "source": [
    "#Bar chart showing the percentage of male and female going and not going for higher studies with necessary labelling.\n",
    "plt.bar(['Yes','No'], Male , color='r')\n",
    "plt.bar(['Yes','No'], Female, bottom=Male, color='b') #Stack the female bar chart above the male bar chart. \n",
    "plt.legend(labels=['Male','Female'])\n",
    "plt.xlabel('Planning for Higher Studies',fontsize=13)\n",
    "plt.ylabel('% of Total Population',fontsize=13)\n",
    "plt.title('% of Male and Female students planning for Higher Studies', fontsize=16)\n",
    "plt.show()"
   ]
  },
  {
   "cell_type": "markdown",
   "metadata": {},
   "source": [
    "The graph shows that more than 80% of students consider going for Higher Studies after their Bachelor's. We also see no gender effect in whether a person would go for higher studies or not."
   ]
  },
  {
   "cell_type": "code",
   "execution_count": 21,
   "metadata": {},
   "outputs": [
    {
     "data": {
      "text/plain": [
       "Yes    78\n",
       "No     16\n",
       "Name: Higher Studies, dtype: int64"
      ]
     },
     "execution_count": 21,
     "metadata": {},
     "output_type": "execute_result"
    }
   ],
   "source": [
    "survey['Higher Studies'].value_counts()"
   ]
  },
  {
   "cell_type": "code",
   "execution_count": 22,
   "metadata": {},
   "outputs": [
    {
     "data": {
      "image/png": "[encoded data removed]",
      "text/plain": [
       "<Figure size 432x288 with 1 Axes>"
      ]
     },
     "metadata": {
      "needs_background": "light"
     },
     "output_type": "display_data"
    }
   ],
   "source": [
    "#Bar chart showing the percentage of male and female going and not going abroad for higher studies with necessary labelling.\n",
    "Male_Abroad=[(np.argwhere((survey['Higher Studies']=='Yes') & (survey['Higher Studies Abroad']=='Yes') & (survey['Gender']=='Male')).shape[0])*100/survey['Higher Studies'].value_counts()[0],(np.argwhere((survey['Higher Studies']=='Yes') & (survey['Higher Studies Abroad']=='No') & (survey['Gender']=='Male')).shape[0])*100/survey['Higher Studies'].value_counts()[0]]\n",
    "Female_Abroad=[(np.argwhere((survey['Higher Studies']=='Yes') & (survey['Higher Studies Abroad']=='Yes') & (survey['Gender']=='Female')).shape[0])*100/survey['Higher Studies'].value_counts()[0],(np.argwhere((survey['Higher Studies']=='Yes') & (survey['Higher Studies Abroad']=='No') & (survey['Gender']=='Female')).shape[0])*100/survey['Higher Studies'].value_counts()[0]]\n",
    "plt.bar(['Yes','No'], Male_Abroad , color='r')\n",
    "plt.bar(['Yes','No'], Female_Abroad, bottom=Male_Abroad, color='b') #Stack the female bar chart above the male bar chart.\n",
    "plt.legend(labels=['Male','Female'])\n",
    "plt.ylim(0,100)\n",
    "plt.xlabel('Planning for Higher Studies Abroad',fontsize=13)\n",
    "plt.ylabel('% of people planning for Higher Studies',fontsize=13)\n",
    "plt.title('% of Male and Female students planning for Higher Studies Abroad', fontsize=16)\n",
    "plt.show()"
   ]
  },
  {
   "cell_type": "markdown",
   "metadata": {},
   "source": [
    "We observe that out of all the poeple planning for Higher Studies, more than 70% of them consider applyting abroad.Also, the graph shows more females not applying abroad as comapred to men, which shows that a student given that she is female is more likely to not apply abroad for higher studies when compared to male students."
   ]
  },
  {
   "cell_type": "code",
   "execution_count": 23,
   "metadata": {},
   "outputs": [
    {
     "data": {
      "image/png": "[encoded data removed]",
      "text/plain": [
       "<Figure size 432x288 with 1 Axes>"
      ]
     },
     "metadata": {
      "needs_background": "light"
     },
     "output_type": "display_data"
    }
   ],
   "source": [
    "#Bar chart showing the percentage of male and female getting support for applying abroad for higher studies with necessary labelling.\n",
    "Male_FamilyFavour=[(np.argwhere((survey['Gender']=='Male') & (survey['FamilyFavour']=='Yes')).shape[0])*100/94,(np.argwhere((survey['Gender']=='Male') & (survey['FamilyFavour']=='No')).shape[0])*100/94]\n",
    "Female_FamilyFavour=[(np.argwhere((survey['Gender']=='Female') & (survey['FamilyFavour']=='Yes')).shape[0])*100/94,(np.argwhere((survey['Gender']=='Female') & (survey['FamilyFavour']=='No')).shape[0])*100/94]\n",
    "plt.bar(['Yes','No'], Male_FamilyFavour , color='r')\n",
    "plt.bar(['Yes','No'], Female_FamilyFavour, bottom=Male_FamilyFavour, color='b')#Stack the female bar char above the male bar chart.\n",
    "plt.legend(labels=['Male','Female'])\n",
    "plt.xlabel('Family favours going Abroad',fontsize=13)\n",
    "plt.ylabel('% of Total Population',fontsize=13)\n",
    "plt.title('% of Male and Female students whose families favour going abroad', fontsize=16)\n",
    "plt.show()"
   ]
  },
  {
   "cell_type": "markdown",
   "metadata": {},
   "source": [
    "The graph shows majority of the families favour their child to apply abroad for higher studies irrespective of whether the child is male or female."
   ]
  },
  {
   "cell_type": "code",
   "execution_count": 24,
   "metadata": {},
   "outputs": [
    {
     "data": {
      "image/png": "[encoded data removed]",
      "text/plain": [
       "<Figure size 432x288 with 1 Axes>"
      ]
     },
     "metadata": {},
     "output_type": "display_data"
    }
   ],
   "source": [
    "#Create a for loop to create two arrays showing % of people opting masters in same field as that of Bachelor's\n",
    "same=[]\n",
    "not_same=[]\n",
    "for i in range(0,survey.shape[0]):\n",
    "    if survey.iloc[i,3]==survey.iloc[i,4]:\n",
    "        same.append(1)\n",
    "    else:\n",
    "        not_same.append(1)\n",
    "same=(sum(same)/(survey.shape[0])*100)\n",
    "not_same=(sum(not_same)/(survey.shape[0])*100)\n",
    "\n",
    "#Doughnut chart showing % of people opting masters in same field as that of Bachelor's\n",
    "distribution=[same,not_same]\n",
    "labels=[\"SAME\",\"NOT SAME\"]\n",
    "#First create a pie plot.\n",
    "plt.pie(distribution,labels=labels,autopct=\"%1.1f%%\")\n",
    "#Add a circle at the to transform it in a doughnut chart.  \n",
    "centre_circle=plt.Circle((0,0),0.60,fc='white')\n",
    "fig=plt.gcf()\n",
    "fig.gca().add_artist(centre_circle)\n",
    "plt.title('% of people opting masters in same field as that of Bachelors',fontsize=15)\n",
    "plt.show()"
   ]
  },
  {
   "cell_type": "markdown",
   "metadata": {},
   "source": [
    "The charts shows that 24.5% of the students tend to pursue Master's in a field that is different from that of their Bachelor's."
   ]
  },
  {
   "cell_type": "markdown",
   "metadata": {},
   "source": [
    "The graph shows that U.S.A. and European countries are among the most preferred countries among students applying for their Higher Studies and Cananda being the least."
   ]
  },
  {
   "cell_type": "code",
   "execution_count": 27,
   "metadata": {},
   "outputs": [
    {
     "data": {
      "image/png": "[encoded data removed]",
      "text/plain": [
       "<Figure size 432x288 with 1 Axes>"
      ]
     },
     "metadata": {
      "needs_background": "light"
     },
     "output_type": "display_data"
    }
   ],
   "source": [
    "#Bar chart showing distribution of preference of countries among Indian students for higher studies. \n",
    "plt.bar(survey['Country'].value_counts().index, height= survey['Country'].value_counts().values*100/sum(survey['Country'].value_counts().values), color=['r','c','b','g','m'])\n",
    "plt.ylim(0,100)#Set the y axis limits.\n",
    "plt.xlabel('Country/Continent',fontsize=13)\n",
    "plt.ylabel('% of Total Population',fontsize=13)\n",
    "plt.title('Country/Continent preferred by students for higher studies', fontsize=16)\n",
    "plt.show()"
   ]
  },
  {
   "cell_type": "code",
   "execution_count": 28,
   "metadata": {
    "scrolled": true
   },
   "outputs": [
    {
     "data": {
      "text/plain": [
       "Engineering/ Architectural, etc.                        22\n",
       "Mathematics/ Statistics                                 16\n",
       "Medical                                                 14\n",
       "Computer Science/ICT                                    11\n",
       "Business and Management                                 11\n",
       "Commerce (Finance, Accounting, others)                   9\n",
       "Science (Physics, Chemistry, others)                     5\n",
       "Arts (History, Political Science, Economics, Others)     3\n",
       "Law/Journalism                                           2\n",
       "None                                                     1\n",
       "Name: HigherStudiesField, dtype: int64"
      ]
     },
     "execution_count": 28,
     "metadata": {},
     "output_type": "execute_result"
    }
   ],
   "source": [
    "#Replace 'Biotechnology' and 'Cybersecurity' with 'Engineering/ Architectural, etc.' and 'Computer Science/ICT' respectively.\n",
    "survey['HigherStudiesField']=np.where(np.isin(survey['HigherStudiesField'],['biotechnology ',\"Biotechnology\"]), 'Engineering/ Architectural, etc.',survey['HigherStudiesField'])\n",
    "survey['HigherStudiesField']=np.where(survey['HigherStudiesField']== 'Cybersecurity', 'Computer Science/ICT',survey['HigherStudiesField'])\n",
    "survey['HigherStudiesField'].value_counts()"
   ]
  },
  {
   "cell_type": "code",
   "execution_count": 29,
   "metadata": {},
   "outputs": [],
   "source": [
    "#Create a list showing preference for each country according to different fields.\n",
    "country=[]\n",
    "for i in survey['Country'].value_counts().index:\n",
    "    name=[]\n",
    "    for j in survey['HigherStudiesField'].value_counts().index:\n",
    "        name.append((np.argwhere((survey['Country']==i) & (survey['HigherStudiesField']== j)).shape[0]))\n",
    "    country.append(name)\n",
    "                 "
   ]
  },
  {
   "cell_type": "code",
   "execution_count": 30,
   "metadata": {},
   "outputs": [
    {
     "data": {
      "image/png": "[encoded data removed]",
      "text/plain": [
       "<Figure size 1440x720 with 1 Axes>"
      ]
     },
     "metadata": {
      "needs_background": "light"
     },
     "output_type": "display_data"
    }
   ],
   "source": [
    "#Bar chart showing preference for each country according to different fields.\n",
    "color_list = ['r','c','b','g','m']\n",
    "plt.figure(figsize=(20,10))\n",
    "#Create a for loop to stack the countries bar charts above each other.\n",
    "for i in range(len(country)):\n",
    "    plt.bar(survey['HigherStudiesField'].value_counts().index, country[i],\n",
    "    bottom = np.sum(country[:i], axis = 0),\n",
    "    color = color_list[i % len(color_list)])\n",
    "plt.xlabel(\"Course/Field of study\",fontsize=15)\n",
    "plt.ylabel(\"Frequency\",fontsize=15)\n",
    "plt.ylim(0,25) #Set y axis limits\n",
    "plt.title(\"Country/Continent preference by Course\", fontsize=20)\n",
    "plt.legend(labels=survey['Country'].value_counts().index)\n",
    "plt.xticks(rotation=45,fontsize=13)#Rotate x ticks to 45 degrees.\n",
    "plt.show()"
   ]
  },
  {
   "cell_type": "markdown",
   "metadata": {},
   "source": [
    "The graph shows that more than 50% of the students applying Abroad for masters in either Engineering/Architecture or Business/management considers U.S.A. as their preferred country. However most of the students applying for a Master's in Medical or Commerce field considers European countries as their preferred choice."
   ]
  },
  {
   "cell_type": "code",
   "execution_count": 31,
   "metadata": {},
   "outputs": [
    {
     "data": {
      "image/png": "[encoded data removed]",
      "text/plain": [
       "<Figure size 432x288 with 1 Axes>"
      ]
     },
     "metadata": {},
     "output_type": "display_data"
    }
   ],
   "source": [
    "#Doughnut chart showing % of people getting proper guidance for applying in foreign universities.\n",
    "plt.pie(survey['Guidance'].value_counts().values,labels=survey['Guidance'].value_counts().index,autopct=\"%1.1f%%\")\n",
    "centre_circle=plt.Circle((0,0),0.60,fc='white')\n",
    "fig=plt.gcf()\n",
    "fig.gca().add_artist(centre_circle)\n",
    "plt.title(\"Availability of guidance for going Abroad\", fontsize=16)\n",
    "plt.show()"
   ]
  },
  {
   "cell_type": "markdown",
   "metadata": {},
   "source": [
    "The chart shows that 36.6% students feel that they do not have access to proper guidance for applying Abroad."
   ]
  },
  {
   "cell_type": "code",
   "execution_count": 32,
   "metadata": {},
   "outputs": [
    {
     "data": {
      "image/png": "[encoded data removed]",
      "text/plain": [
       "<Figure size 432x288 with 1 Axes>"
      ]
     },
     "metadata": {},
     "output_type": "display_data"
    }
   ],
   "source": [
    "#Doughnut chart showing % of people affected by immigration policies for applying in their respective country of  preference\n",
    "plt.pie(survey['ImmigrationPolicies'].value_counts().values,labels=survey['ImmigrationPolicies'].value_counts().index,autopct=\"%1.1f%%\")\n",
    "centre_circle=plt.Circle((0,0),0.60,fc='white')\n",
    "fig=plt.gcf()\n",
    "fig.gca().add_artist(centre_circle)\n",
    "plt.title(\"Effect of Immigration Policies on choice of country\", fontsize=16)\n",
    "plt.show()"
   ]
  },
  {
   "cell_type": "markdown",
   "metadata": {},
   "source": [
    "The charts shows that immigration policies of a country affect the decision of around 50% of the students about their country preference for a Mater's degree."
   ]
  },
  {
   "cell_type": "markdown",
   "metadata": {},
   "source": [
    "### Hypothesis Testing"
   ]
  },
  {
   "cell_type": "markdown",
   "metadata": {},
   "source": [
    "#### Test for difference of means between expense rating for U.S.A. and Europe."
   ]
  },
  {
   "cell_type": "code",
   "execution_count": 33,
   "metadata": {},
   "outputs": [],
   "source": [
    "#Retrieve arrays of two independent samples i.e. sample of expense ratings of U.S.A. and that of Europe from the dataset. \n",
    "usa=np.where(survey[\"Country\"]==\"U.S.A.\",survey[\"ExpenseRating\"],np.nan)\n",
    "europe=np.where(survey[\"Country\"]==\"Europe\",survey[\"ExpenseRating\"],np.nan)\n",
    "usa_expense=usa[np.isnan(usa)==False]\n",
    "europe_expense=europe[np.isnan(europe)==False]\n"
   ]
  },
  {
   "cell_type": "markdown",
   "metadata": {},
   "source": [
    "Since the population variance is unknown t-Test has been applied.<br>\n",
    "Level of significance(alpha) =0.05<p>\n",
    "Null Hypotheses(H_0): Sample mean expense ratings for U.S.A. is equal to  Sample mean expense ratings of Europe i.e. $$\\mu_{usa} = \\mu_{eur}$$ \n",
    "Alternative Hypotheses(H_1):Sample mean expense ratings for U.S.A. is greater than Sample mean expense ratings of Europe i.e. $$\\mu_{usa} > \\mu_{eur}$$ "
   ]
  },
  {
   "cell_type": "code",
   "execution_count": 34,
   "metadata": {},
   "outputs": [],
   "source": [
    "#Import stats module from scipy\n",
    "from scipy import stats"
   ]
  },
  {
   "cell_type": "markdown",
   "metadata": {},
   "source": [
    "To check whether the two population variances are equal or not F-Test needs to be applied.<br>\n",
    "Level of significance(alpha) =0.05\n",
    "\n",
    "H0: The population variances are equal i.e. $$ \\sigma_{usa}^{2} = \\sigma_{eur}^{2} $$\n",
    "\n",
    "H1: The population variances are not equal i.e. $$\\sigma_{usa}^{2} != \\sigma_{eur}^{2} $$"
   ]
  },
  {
   "cell_type": "code",
   "execution_count": 35,
   "metadata": {},
   "outputs": [],
   "source": [
    "#define F-test function\n",
    "def f_test(sample1, sample2):# Take two samples as argument of the function.\n",
    "    x = sample1\n",
    "    y = sample2\n",
    "    f = np.var(x, ddof=1)/np.var(y, ddof=1) #calculate F test statistic \n",
    "    dfn = x.size-1 #define degrees of freedom numerator \n",
    "    dfd = y.size-1 #define degrees of freedom denominator \n",
    "    p = 1-stats.f.cdf(f, dfn, dfd) #find p-value of F test statistic \n",
    "    return f, p"
   ]
  },
  {
   "cell_type": "code",
   "execution_count": 36,
   "metadata": {},
   "outputs": [
    {
     "data": {
      "text/plain": [
       "(1.3304591921459827, 0.2575402209610602)"
      ]
     },
     "execution_count": 36,
     "metadata": {},
     "output_type": "execute_result"
    }
   ],
   "source": [
    "#Call the function that would return the F statistic and the p value.\n",
    "f_test(usa_expense,europe_expense)"
   ]
  },
  {
   "cell_type": "markdown",
   "metadata": {},
   "source": [
    "Since p value is 0.2575402209610602 which is more than alpha(0.05), therefore H0 may be accepted.<br>\n",
    "There is not enough statistical evidence to conclude that the two population variances are unequal.<br>\n",
    "Now, we can proceed towards t Test."
   ]
  },
  {
   "cell_type": "code",
   "execution_count": 37,
   "metadata": {},
   "outputs": [
    {
     "data": {
      "text/plain": [
       "Ttest_indResult(statistic=-0.2638054366581414, pvalue=0.6035330074477102)"
      ]
     },
     "execution_count": 37,
     "metadata": {},
     "output_type": "execute_result"
    }
   ],
   "source": [
    "#Apply the t Test for independent samples using stats module.\n",
    "stats.ttest_ind(usa_expense,europe_expense,equal_var=True,alternative='greater')"
   ]
  },
  {
   "cell_type": "markdown",
   "metadata": {},
   "source": [
    "Since p value is 0.6035330074477102 which is greater than alpha(0.05), therefore H0 may be accepted.<br>\n",
    "There is not enough statistical evidence to conclude that mean expense ratings for U.S.A. is greater than mean expense ratings of Europe"
   ]
  },
  {
   "cell_type": "markdown",
   "metadata": {},
   "source": [
    "#### Test for difference of means of field rating for U.S.A. and Europe."
   ]
  },
  {
   "cell_type": "code",
   "execution_count": 38,
   "metadata": {},
   "outputs": [],
   "source": [
    "#Retrieve arrays of two independent samples i.e. sample of field ratings of U.S.A. and that of Europe from the dataset. \n",
    "usa_1=np.where(survey[\"Country\"]==\"U.S.A.\",survey[\"FieldRating\"],np.nan)\n",
    "europe_1=np.where(survey[\"Country\"]==\"Europe\",survey[\"FieldRating\"],np.nan)\n",
    "usa_field=usa_1[np.isnan(usa_1)==False]\n",
    "europe_field=europe_1[np.isnan(europe_1)==False]"
   ]
  },
  {
   "cell_type": "markdown",
   "metadata": {},
   "source": [
    "Level of significance(alpha) =0.05<p>\n",
    "Null Hypotheses(H_0): Sample mean expense ratings for U.S.A. is equal to Sample mean expense ratings of Europe i.e. $$\\mu_{usa} = \\mu_{eur}$$ \n",
    "Alternative Hypotheses(H_1):Sample mean expense ratings for U.S.A. is greater than Sample mean expense ratings of Europe i.e. $$\\mu_{usa} > \\mu_{eur}$$ \n",
    "\n"
   ]
  },
  {
   "cell_type": "markdown",
   "metadata": {},
   "source": [
    "To check whether the two population variances are equal or not F-Test needs to be applied.<br>\n",
    "Level of significance(alpha) =0.05\n",
    "\n",
    "H0: The population variances are equal i.e. $$ \\sigma_{usa}^{2} = \\sigma_{eur}^{2} $$\n",
    "\n",
    "H1: The population variances are not equal i.e. $$\\sigma_{usa}^{2} != \\sigma_{eur}^{2} $$\n"
   ]
  },
  {
   "cell_type": "code",
   "execution_count": 39,
   "metadata": {},
   "outputs": [
    {
     "data": {
      "text/plain": [
       "(1.067317356795313, 0.4524158391140549)"
      ]
     },
     "execution_count": 39,
     "metadata": {},
     "output_type": "execute_result"
    }
   ],
   "source": [
    "#Call the function that would return the F statistic and the p value.\n",
    "f_test(usa_field,europe_field)"
   ]
  },
  {
   "cell_type": "markdown",
   "metadata": {},
   "source": [
    "Since p value is 0.4524158391140549 which is greater than alpha(0.05), therefore H0 may be accepted.<br>\n",
    "There is not enough statistical evidence to conclude that the two population variances are unequal.<br>\n",
    "Now, we can proceed towards t Test."
   ]
  },
  {
   "cell_type": "code",
   "execution_count": 40,
   "metadata": {},
   "outputs": [
    {
     "data": {
      "text/plain": [
       "Ttest_indResult(statistic=-0.5034880865348805, pvalue=0.6916655300788395)"
      ]
     },
     "execution_count": 40,
     "metadata": {},
     "output_type": "execute_result"
    }
   ],
   "source": [
    "#Apply the t Test for independent samples using stats module.\n",
    "stats.ttest_ind(usa_field,europe_field,alternative='greater')"
   ]
  },
  {
   "cell_type": "markdown",
   "metadata": {},
   "source": [
    "Since p value is 0.6916655300788395 which is greater than alpha(0.05), therefore H0 may be accepted.<br>\n",
    "There is not enough statistical evidence to conclude that mean field ratings for U.S.A. is greater than mean field ratings of Europe."
   ]
  },
  {
   "cell_type": "markdown",
   "metadata": {},
   "source": [
    "### Cluster Analysis"
   ]
  },
  {
   "cell_type": "markdown",
   "metadata": {},
   "source": [
    "#### Performing k means clustering."
   ]
  },
  {
   "cell_type": "code",
   "execution_count": 41,
   "metadata": {},
   "outputs": [],
   "source": [
    "#Import the KMeans module so we can perform k-means clustering with sklearn\n",
    "from sklearn.cluster import KMeans"
   ]
  },
  {
   "cell_type": "code",
   "execution_count": 42,
   "metadata": {},
   "outputs": [
    {
     "data": {
      "text/html": [
       "<div>\n",
       "<style scoped>\n",
       "    .dataframe tbody tr th:only-of-type {\n",
       "        vertical-align: middle;\n",
       "    }\n",
       "\n",
       "    .dataframe tbody tr th {\n",
       "        vertical-align: top;\n",
       "    }\n",
       "\n",
       "    .dataframe thead th {\n",
       "        text-align: right;\n",
       "    }\n",
       "</style>\n",
       "<table border=\"1\" class=\"dataframe\">\n",
       "  <thead>\n",
       "    <tr style=\"text-align: right;\">\n",
       "      <th></th>\n",
       "      <th>Expense Rating</th>\n",
       "      <th>Field Rating</th>\n",
       "    </tr>\n",
       "  </thead>\n",
       "  <tbody>\n",
       "    <tr>\n",
       "      <th>0</th>\n",
       "      <td>10.0</td>\n",
       "      <td>7.0</td>\n",
       "    </tr>\n",
       "    <tr>\n",
       "      <th>1</th>\n",
       "      <td>4.0</td>\n",
       "      <td>3.0</td>\n",
       "    </tr>\n",
       "    <tr>\n",
       "      <th>2</th>\n",
       "      <td>9.0</td>\n",
       "      <td>7.0</td>\n",
       "    </tr>\n",
       "    <tr>\n",
       "      <th>3</th>\n",
       "      <td>10.0</td>\n",
       "      <td>4.0</td>\n",
       "    </tr>\n",
       "    <tr>\n",
       "      <th>4</th>\n",
       "      <td>3.0</td>\n",
       "      <td>4.0</td>\n",
       "    </tr>\n",
       "    <tr>\n",
       "      <th>...</th>\n",
       "      <td>...</td>\n",
       "      <td>...</td>\n",
       "    </tr>\n",
       "    <tr>\n",
       "      <th>89</th>\n",
       "      <td>9.0</td>\n",
       "      <td>9.0</td>\n",
       "    </tr>\n",
       "    <tr>\n",
       "      <th>90</th>\n",
       "      <td>4.0</td>\n",
       "      <td>2.0</td>\n",
       "    </tr>\n",
       "    <tr>\n",
       "      <th>91</th>\n",
       "      <td>9.0</td>\n",
       "      <td>6.0</td>\n",
       "    </tr>\n",
       "    <tr>\n",
       "      <th>92</th>\n",
       "      <td>10.0</td>\n",
       "      <td>9.0</td>\n",
       "    </tr>\n",
       "    <tr>\n",
       "      <th>93</th>\n",
       "      <td>7.0</td>\n",
       "      <td>8.0</td>\n",
       "    </tr>\n",
       "  </tbody>\n",
       "</table>\n",
       "<p>94 rows × 2 columns</p>\n",
       "</div>"
      ],
      "text/plain": [
       "    Expense Rating  Field Rating\n",
       "0             10.0           7.0\n",
       "1              4.0           3.0\n",
       "2              9.0           7.0\n",
       "3             10.0           4.0\n",
       "4              3.0           4.0\n",
       "..             ...           ...\n",
       "89             9.0           9.0\n",
       "90             4.0           2.0\n",
       "91             9.0           6.0\n",
       "92            10.0           9.0\n",
       "93             7.0           8.0\n",
       "\n",
       "[94 rows x 2 columns]"
      ]
     },
     "execution_count": 42,
     "metadata": {},
     "output_type": "execute_result"
    }
   ],
   "source": [
    "#Create a dataframe that contains 'ExpenseRating' and 'FieldRating' columns\n",
    "rating = pd.DataFrame({'Expense Rating':survey['ExpenseRating'], 'Field Rating':survey['FieldRating']})\n",
    "rating"
   ]
  },
  {
   "cell_type": "code",
   "execution_count": 102,
   "metadata": {},
   "outputs": [
    {
     "data": {
      "text/plain": [
       "Text(0, 0.5, 'Field Rating')"
      ]
     },
     "execution_count": 102,
     "metadata": {},
     "output_type": "execute_result"
    },
    {
     "data": {
      "image/png": "[encoded data removed]",
      "text/plain": [
       "<Figure size 432x288 with 1 Axes>"
      ]
     },
     "metadata": {},
     "output_type": "display_data"
    }
   ],
   "source": [
    "#Plotting the data using scatter plot\n",
    "plt.scatter(rating['Expense Rating'],rating['Field Rating']) \n",
    "\n",
    "plt.xlabel('Expense Rating')\n",
    "plt.ylabel('Field Rating')\n"
   ]
  },
  {
   "cell_type": "code",
   "execution_count": 44,
   "metadata": {},
   "outputs": [
    {
     "name": "stderr",
     "output_type": "stream",
     "text": [
      "C:\\Users\\vbjnn\\anaconda3\\lib\\site-packages\\sklearn\\cluster\\_kmeans.py:881: UserWarning: KMeans is known to have a memory leak on Windows with MKL, when there are less chunks than available threads. You can avoid it by setting the environment variable OMP_NUM_THREADS=1.\n",
      "  warnings.warn(\n"
     ]
    },
    {
     "data": {
      "text/plain": [
       "[999.1471571906352,\n",
       " 518.99881840858,\n",
       " 301.8489423230059,\n",
       " 237.14731587019298,\n",
       " 190.06686952535617,\n",
       " 158.29153603332034]"
      ]
     },
     "execution_count": 44,
     "metadata": {},
     "output_type": "execute_result"
    }
   ],
   "source": [
    "# Create an empty list\n",
    "wcss=[]\n",
    "\n",
    "# Create all possible cluster solutions with a loop\n",
    "for i in range(1,7):\n",
    "    # Cluster solution with i clusters\n",
    "    kmeans = KMeans(i)\n",
    "    # Fit the data\n",
    "    kmeans.fit(rating)\n",
    "    # Find WCSS for the current iteration\n",
    "    wcss_iter = kmeans.inertia_\n",
    "    # Append the value to the WCSS list\n",
    "    wcss.append(wcss_iter)\n",
    "wcss"
   ]
  },
  {
   "cell_type": "markdown",
   "metadata": {},
   "source": [
    "#### Using Elbow method to choose number of clusters"
   ]
  },
  {
   "cell_type": "code",
   "execution_count": 45,
   "metadata": {},
   "outputs": [
    {
     "data": {
      "text/plain": [
       "Text(0, 0.5, 'Within-cluster Sum of Squares')"
      ]
     },
     "execution_count": 45,
     "metadata": {},
     "output_type": "execute_result"
    },
    {
     "data": {
      "image/png": "[encoded data removed]",
      "text/plain": [
       "<Figure size 432x288 with 1 Axes>"
      ]
     },
     "metadata": {},
     "output_type": "display_data"
    }
   ],
   "source": [
    "# Create a variable containing the numbers from 1 to 6, so we can use it as X axis of the future plot\n",
    "number_clusters = range(1,7)\n",
    "# Plot the number of clusters vs WCSS\n",
    "plt.plot(number_clusters,wcss)\n",
    "# Name the graph\n",
    "plt.title('The Elbow Method')\n",
    "# Name the x-axis\n",
    "plt.xlabel('Number of clusters')\n",
    "# Name the y-axis\n",
    "plt.ylabel('Within-cluster Sum of Squares')"
   ]
  },
  {
   "cell_type": "markdown",
   "metadata": {},
   "source": [
    "We want WCSS to be as low as possible while we can still have small no. of clusters so we could interpret them.<br>\n",
    "In the above graph, we are getting two elbow points i.e. at 2 and 3<br>\n",
    "3 is the biggest no. of cluster for which we are still getting the significant decrease in WCSS. Thereafter there is almost no improvement.<p>\n",
    "So we will go with 3 cluster solution. "
   ]
  },
  {
   "cell_type": "code",
   "execution_count": 46,
   "metadata": {},
   "outputs": [
    {
     "data": {
      "text/plain": [
       "KMeans(n_clusters=3)"
      ]
     },
     "execution_count": 46,
     "metadata": {},
     "output_type": "execute_result"
    }
   ],
   "source": [
    "# Create an object (which we would call kmeans)\n",
    "kmeans = KMeans(3)\n",
    "#  Fit the input data, i.e. cluster the data in rating in 3 clusters\n",
    "kmeans.fit(rating)"
   ]
  },
  {
   "cell_type": "code",
   "execution_count": 104,
   "metadata": {},
   "outputs": [
    {
     "data": {
      "text/plain": [
       "Text(0.5, 1.0, 'Ratings of the preferred country')"
      ]
     },
     "execution_count": 104,
     "metadata": {},
     "output_type": "execute_result"
    },
    {
     "data": {
      "image/png": "[encoded data removed]",
      "text/plain": [
       "<Figure size 432x288 with 1 Axes>"
      ]
     },
     "metadata": {},
     "output_type": "display_data"
    }
   ],
   "source": [
    "#Create a copy of 'rating' dataframe \n",
    "clusters = rating.copy() \n",
    "#Create a new column, containing the predicted clusters for each observation.\n",
    "clusters['cluster_pred']=kmeans.fit_predict(rating)\n",
    "## Plot the data using the 'Expense Rating' and 'Field Rating'\n",
    "# c (color) is an argument which could be coded with a variable \n",
    "# The variable in this case has values 0,1,2, indicating to plt.scatter, that there are three colors (0,1,2)\n",
    "# All points in cluster 0 will be the same colour, all points in cluster 1 - another one, etc.\n",
    "# cmap is the color map\n",
    "plt.scatter(rating['Expense Rating'],rating['Field Rating'],c=clusters['cluster_pred'],cmap='rainbow')\n",
    "plt.xlabel('Expense Rating',fontsize=13)\n",
    "plt.ylabel('Field Rating',fontsize=13)\n",
    "plt.title(\"Ratings of the preferred country\", fontsize=16)\n"
   ]
  },
  {
   "cell_type": "markdown",
   "metadata": {},
   "source": [
    "The 3 clusters can be interpreted as:<br>\n",
    "**Red**(People whose preferred countries are less expensive and well in terms of on field reality): **Price and Culture Sensitive.**<br>\n",
    "**Violet**(People whose preferred countries are highly expensive but well in terms of field reality): **Culture Sensitive** <br>\n",
    "**Green**(People whose preferred countries are highly expensive and harsh in terms of on field reality): **Price and Culture insensitive**"
   ]
  },
  {
   "cell_type": "markdown",
   "metadata": {},
   "source": [
    "### Logistic Regression"
   ]
  },
  {
   "cell_type": "code",
   "execution_count": 48,
   "metadata": {},
   "outputs": [],
   "source": [
    "#statsmodels would be used for performing logistic regression.\n",
    "import statsmodels.api as sm\n",
    "\n"
   ]
  },
  {
   "cell_type": "code",
   "execution_count": 49,
   "metadata": {},
   "outputs": [],
   "source": [
    "#Apply a fix to the statsmodels library\n",
    "stats.chisqprob = lambda chisq, df: stats.chi2.sf(chisq, df)"
   ]
  },
  {
   "cell_type": "code",
   "execution_count": 51,
   "metadata": {},
   "outputs": [],
   "source": [
    "#Create a dataframe containing \"Loan\",\"FamilyIncome\"&'Country' columns\n",
    "lr_df=survey[[\"Loan\",\"FamilyIncome\",'Country']]"
   ]
  },
  {
   "cell_type": "code",
   "execution_count": 52,
   "metadata": {},
   "outputs": [
    {
     "name": "stderr",
     "output_type": "stream",
     "text": [
      "<ipython-input-52-2e03111cb19c>:1: SettingWithCopyWarning: \n",
      "A value is trying to be set on a copy of a slice from a DataFrame.\n",
      "Try using .loc[row_indexer,col_indexer] = value instead\n",
      "\n",
      "See the caveats in the documentation: https://pandas.pydata.org/pandas-docs/stable/user_guide/indexing.html#returning-a-view-versus-a-copy\n",
      "  lr_df[\"Loan\"]=lr_df[\"Loan\"].map({'Yes':1,'No':0}) # Replace all 'No' entries with 0, and all 'Yes' entries with 1\n",
      "<ipython-input-52-2e03111cb19c>:2: SettingWithCopyWarning: \n",
      "A value is trying to be set on a copy of a slice from a DataFrame.\n",
      "Try using .loc[row_indexer,col_indexer] = value instead\n",
      "\n",
      "See the caveats in the documentation: https://pandas.pydata.org/pandas-docs/stable/user_guide/indexing.html#returning-a-view-versus-a-copy\n",
      "  lr_df[\"FamilyIncome\"]=lr_df[\"FamilyIncome\"].map({'<6 LPA':1,'>6 LPA':0})  #Replace all \"<6 LPA\" entries with 0, and all \">6 LPA\" entries with 1\n"
     ]
    }
   ],
   "source": [
    "lr_df[\"Loan\"]=lr_df[\"Loan\"].map({'Yes':1,'No':0}) # Replace all 'No' entries with 0, and all 'Yes' entries with 1\n",
    "lr_df[\"FamilyIncome\"]=lr_df[\"FamilyIncome\"].map({'<6 LPA':1,'>6 LPA':0})  #Replace all \"<6 LPA\" entries with 0, and all \">6 LPA\" entries with 1\n",
    "lr_df=pd.get_dummies(lr_df,drop_first=True) #Create Dummy Variables"
   ]
  },
  {
   "cell_type": "code",
   "execution_count": 53,
   "metadata": {},
   "outputs": [
    {
     "data": {
      "text/html": [
       "<div>\n",
       "<style scoped>\n",
       "    .dataframe tbody tr th:only-of-type {\n",
       "        vertical-align: middle;\n",
       "    }\n",
       "\n",
       "    .dataframe tbody tr th {\n",
       "        vertical-align: top;\n",
       "    }\n",
       "\n",
       "    .dataframe thead th {\n",
       "        text-align: right;\n",
       "    }\n",
       "</style>\n",
       "<table border=\"1\" class=\"dataframe\">\n",
       "  <thead>\n",
       "    <tr style=\"text-align: right;\">\n",
       "      <th></th>\n",
       "      <th>Loan</th>\n",
       "      <th>FamilyIncome</th>\n",
       "      <th>Country_Australia</th>\n",
       "      <th>Country_Canada</th>\n",
       "      <th>Country_Europe</th>\n",
       "      <th>Country_U.S.A.</th>\n",
       "    </tr>\n",
       "  </thead>\n",
       "  <tbody>\n",
       "    <tr>\n",
       "      <th>0</th>\n",
       "      <td>0</td>\n",
       "      <td>1</td>\n",
       "      <td>0</td>\n",
       "      <td>0</td>\n",
       "      <td>1</td>\n",
       "      <td>0</td>\n",
       "    </tr>\n",
       "    <tr>\n",
       "      <th>1</th>\n",
       "      <td>0</td>\n",
       "      <td>1</td>\n",
       "      <td>0</td>\n",
       "      <td>0</td>\n",
       "      <td>0</td>\n",
       "      <td>0</td>\n",
       "    </tr>\n",
       "    <tr>\n",
       "      <th>2</th>\n",
       "      <td>1</td>\n",
       "      <td>0</td>\n",
       "      <td>0</td>\n",
       "      <td>0</td>\n",
       "      <td>0</td>\n",
       "      <td>1</td>\n",
       "    </tr>\n",
       "    <tr>\n",
       "      <th>3</th>\n",
       "      <td>1</td>\n",
       "      <td>1</td>\n",
       "      <td>0</td>\n",
       "      <td>0</td>\n",
       "      <td>0</td>\n",
       "      <td>1</td>\n",
       "    </tr>\n",
       "    <tr>\n",
       "      <th>4</th>\n",
       "      <td>1</td>\n",
       "      <td>1</td>\n",
       "      <td>0</td>\n",
       "      <td>0</td>\n",
       "      <td>0</td>\n",
       "      <td>0</td>\n",
       "    </tr>\n",
       "    <tr>\n",
       "      <th>...</th>\n",
       "      <td>...</td>\n",
       "      <td>...</td>\n",
       "      <td>...</td>\n",
       "      <td>...</td>\n",
       "      <td>...</td>\n",
       "      <td>...</td>\n",
       "    </tr>\n",
       "    <tr>\n",
       "      <th>89</th>\n",
       "      <td>1</td>\n",
       "      <td>1</td>\n",
       "      <td>1</td>\n",
       "      <td>0</td>\n",
       "      <td>0</td>\n",
       "      <td>0</td>\n",
       "    </tr>\n",
       "    <tr>\n",
       "      <th>90</th>\n",
       "      <td>0</td>\n",
       "      <td>1</td>\n",
       "      <td>0</td>\n",
       "      <td>0</td>\n",
       "      <td>0</td>\n",
       "      <td>1</td>\n",
       "    </tr>\n",
       "    <tr>\n",
       "      <th>91</th>\n",
       "      <td>1</td>\n",
       "      <td>0</td>\n",
       "      <td>1</td>\n",
       "      <td>0</td>\n",
       "      <td>0</td>\n",
       "      <td>0</td>\n",
       "    </tr>\n",
       "    <tr>\n",
       "      <th>92</th>\n",
       "      <td>0</td>\n",
       "      <td>0</td>\n",
       "      <td>0</td>\n",
       "      <td>0</td>\n",
       "      <td>0</td>\n",
       "      <td>1</td>\n",
       "    </tr>\n",
       "    <tr>\n",
       "      <th>93</th>\n",
       "      <td>0</td>\n",
       "      <td>0</td>\n",
       "      <td>0</td>\n",
       "      <td>0</td>\n",
       "      <td>0</td>\n",
       "      <td>1</td>\n",
       "    </tr>\n",
       "  </tbody>\n",
       "</table>\n",
       "<p>94 rows × 6 columns</p>\n",
       "</div>"
      ],
      "text/plain": [
       "    Loan  FamilyIncome  Country_Australia  Country_Canada  Country_Europe  \\\n",
       "0      0             1                  0               0               1   \n",
       "1      0             1                  0               0               0   \n",
       "2      1             0                  0               0               0   \n",
       "3      1             1                  0               0               0   \n",
       "4      1             1                  0               0               0   \n",
       "..   ...           ...                ...             ...             ...   \n",
       "89     1             1                  1               0               0   \n",
       "90     0             1                  0               0               0   \n",
       "91     1             0                  1               0               0   \n",
       "92     0             0                  0               0               0   \n",
       "93     0             0                  0               0               0   \n",
       "\n",
       "    Country_U.S.A.  \n",
       "0                0  \n",
       "1                0  \n",
       "2                1  \n",
       "3                1  \n",
       "4                0  \n",
       "..             ...  \n",
       "89               0  \n",
       "90               1  \n",
       "91               0  \n",
       "92               1  \n",
       "93               1  \n",
       "\n",
       "[94 rows x 6 columns]"
      ]
     },
     "execution_count": 53,
     "metadata": {},
     "output_type": "execute_result"
    }
   ],
   "source": [
    "lr_df"
   ]
  },
  {
   "cell_type": "code",
   "execution_count": 54,
   "metadata": {},
   "outputs": [],
   "source": [
    "y=lr_df[\"Loan\"] #Create a variable that contains target variables\n",
    "x1=lr_df[[\"FamilyIncome\",\"Country_Australia\",\"Country_Canada\",\"Country_Europe\",\"Country_U.S.A.\"]]# Create a variable that contains input variables."
   ]
  },
  {
   "cell_type": "code",
   "execution_count": 55,
   "metadata": {},
   "outputs": [],
   "source": [
    "#adding a column containing 1 for the constant in model \n",
    "x=sm.add_constant(x1)"
   ]
  },
  {
   "cell_type": "code",
   "execution_count": 56,
   "metadata": {},
   "outputs": [],
   "source": [
    "#splitting the data into train set(80%) and test set(20%)\n",
    "from sklearn.model_selection import train_test_split\n",
    "\n",
    "x_train, x_test, y_train, y_test = train_test_split(x, y, test_size=0.2, random_state=365)"
   ]
  },
  {
   "cell_type": "code",
   "execution_count": 57,
   "metadata": {},
   "outputs": [
    {
     "name": "stdout",
     "output_type": "stream",
     "text": [
      "Optimization terminated successfully.\n",
      "         Current function value: 0.590106\n",
      "         Iterations 6\n"
     ]
    },
    {
     "data": {
      "text/html": [
       "<table class=\"simpletable\">\n",
       "<caption>Logit Regression Results</caption>\n",
       "<tr>\n",
       "  <th>Dep. Variable:</th>         <td>Loan</td>       <th>  No. Observations:  </th>  <td>    75</td> \n",
       "</tr>\n",
       "<tr>\n",
       "  <th>Model:</th>                 <td>Logit</td>      <th>  Df Residuals:      </th>  <td>    69</td> \n",
       "</tr>\n",
       "<tr>\n",
       "  <th>Method:</th>                 <td>MLE</td>       <th>  Df Model:          </th>  <td>     5</td> \n",
       "</tr>\n",
       "<tr>\n",
       "  <th>Date:</th>            <td>Sun, 30 May 2021</td> <th>  Pseudo R-squ.:     </th>  <td>0.07291</td>\n",
       "</tr>\n",
       "<tr>\n",
       "  <th>Time:</th>                <td>15:33:39</td>     <th>  Log-Likelihood:    </th> <td> -44.258</td>\n",
       "</tr>\n",
       "<tr>\n",
       "  <th>converged:</th>             <td>True</td>       <th>  LL-Null:           </th> <td> -47.739</td>\n",
       "</tr>\n",
       "<tr>\n",
       "  <th>Covariance Type:</th>     <td>nonrobust</td>    <th>  LLR p-value:       </th>  <td>0.2235</td> \n",
       "</tr>\n",
       "</table>\n",
       "<table class=\"simpletable\">\n",
       "<tr>\n",
       "          <td></td>             <th>coef</th>     <th>std err</th>      <th>z</th>      <th>P>|z|</th>  <th>[0.025</th>    <th>0.975]</th>  \n",
       "</tr>\n",
       "<tr>\n",
       "  <th>const</th>             <td>    0.4200</td> <td>    0.701</td> <td>    0.599</td> <td> 0.549</td> <td>   -0.953</td> <td>    1.793</td>\n",
       "</tr>\n",
       "<tr>\n",
       "  <th>FamilyIncome</th>      <td>   -0.5815</td> <td>    0.527</td> <td>   -1.104</td> <td> 0.270</td> <td>   -1.614</td> <td>    0.451</td>\n",
       "</tr>\n",
       "<tr>\n",
       "  <th>Country_Australia</th> <td>    1.4891</td> <td>    1.028</td> <td>    1.449</td> <td> 0.147</td> <td>   -0.526</td> <td>    3.504</td>\n",
       "</tr>\n",
       "<tr>\n",
       "  <th>Country_Canada</th>    <td>    0.9905</td> <td>    1.073</td> <td>    0.923</td> <td> 0.356</td> <td>   -1.112</td> <td>    3.093</td>\n",
       "</tr>\n",
       "<tr>\n",
       "  <th>Country_Europe</th>    <td>    1.1225</td> <td>    0.905</td> <td>    1.241</td> <td> 0.215</td> <td>   -0.651</td> <td>    2.896</td>\n",
       "</tr>\n",
       "<tr>\n",
       "  <th>Country_U.S.A.</th>    <td>   -0.0253</td> <td>    0.779</td> <td>   -0.032</td> <td> 0.974</td> <td>   -1.553</td> <td>    1.502</td>\n",
       "</tr>\n",
       "</table>"
      ],
      "text/plain": [
       "<class 'statsmodels.iolib.summary.Summary'>\n",
       "\"\"\"\n",
       "                           Logit Regression Results                           \n",
       "==============================================================================\n",
       "Dep. Variable:                   Loan   No. Observations:                   75\n",
       "Model:                          Logit   Df Residuals:                       69\n",
       "Method:                           MLE   Df Model:                            5\n",
       "Date:                Sun, 30 May 2021   Pseudo R-squ.:                 0.07291\n",
       "Time:                        15:33:39   Log-Likelihood:                -44.258\n",
       "converged:                       True   LL-Null:                       -47.739\n",
       "Covariance Type:            nonrobust   LLR p-value:                    0.2235\n",
       "=====================================================================================\n",
       "                        coef    std err          z      P>|z|      [0.025      0.975]\n",
       "-------------------------------------------------------------------------------------\n",
       "const                 0.4200      0.701      0.599      0.549      -0.953       1.793\n",
       "FamilyIncome         -0.5815      0.527     -1.104      0.270      -1.614       0.451\n",
       "Country_Australia     1.4891      1.028      1.449      0.147      -0.526       3.504\n",
       "Country_Canada        0.9905      1.073      0.923      0.356      -1.112       3.093\n",
       "Country_Europe        1.1225      0.905      1.241      0.215      -0.651       2.896\n",
       "Country_U.S.A.       -0.0253      0.779     -0.032      0.974      -1.553       1.502\n",
       "=====================================================================================\n",
       "\"\"\""
      ]
     },
     "execution_count": 57,
     "metadata": {},
     "output_type": "execute_result"
    }
   ],
   "source": [
    "reg_log = sm.Logit(y_train,x_train)\n",
    "results_log = reg_log.fit()\n",
    "#Get the regression summary\n",
    "results_log.summary()"
   ]
  },
  {
   "cell_type": "code",
   "execution_count": 58,
   "metadata": {},
   "outputs": [],
   "source": [
    "#Create a function for confusion matrix that would assess the acuracy of the model.\n",
    "def confusion_matrix(data,actual_values,model):\n",
    "    pred_values = model.predict(data) #Predict the values using the Logit model\n",
    "    bins=np.array([0,0.5,1])   # Specify the bins \n",
    "     # Create a histogram, where if values are between 0 and 0.5 tell will be considered 0\n",
    "     # if they are between 0.5 and 1, they will be considered 1\n",
    "    cm = np.histogram2d(actual_values, pred_values, bins=bins)[0]\n",
    "    #Calculate the accuracy\n",
    "    accuracy = (cm[0,0]+cm[1,1])/cm.sum()\n",
    "    #Return the confusion matrix and the accuracy\n",
    "    return cm, accuracy"
   ]
  },
  {
   "cell_type": "code",
   "execution_count": 59,
   "metadata": {},
   "outputs": [
    {
     "data": {
      "text/plain": [
       "(array([[ 2.,  1.],\n",
       "        [ 6., 10.]]),\n",
       " 0.631578947368421)"
      ]
     },
     "execution_count": 59,
     "metadata": {},
     "output_type": "execute_result"
    }
   ],
   "source": [
    "#Calling the function on the test data\n",
    "confusion_matrix(x_test,y_test,results_log)"
   ]
  },
  {
   "cell_type": "markdown",
   "metadata": {},
   "source": [
    "This implies our model has 63.15% accuracy."
   ]
  },
  {
   "cell_type": "code",
   "execution_count": null,
   "metadata": {},
   "outputs": [],
   "source": []
  }
 ],
 "metadata": {
  "kernelspec": {
   "display_name": "Python 3",
   "language": "python",
   "name": "python3"
  },
  "language_info": {
   "codemirror_mode": {
    "name": "ipython",
    "version": 3
   },
   "file_extension": ".py",
   "mimetype": "text/x-python",
   "name": "python",
   "nbconvert_exporter": "python",
   "pygments_lexer": "ipython3",
   "version": "3.7.4"
  }
 },
 "nbformat": 4,
 "nbformat_minor": 2
}
